{
  "cells": [
    {
      "cell_type": "code",
      "source": [
        "from psquery import get_coord, astronquery, casdaquery, heasarcquery, irsaquery, mastquery, noaoquery, psquery, vizierquery, radio_survey_data, chimequery"
      ],
      "outputs": [],
      "execution_count": 1,
      "metadata": {
        "collapsed": true,
        "jupyter": {
          "source_hidden": false,
          "outputs_hidden": false
        },
        "nteract": {
          "transient": {
            "deleting": false
          }
        },
        "execution": {
          "iopub.status.busy": "2022-09-01T17:40:48.689Z",
          "iopub.execute_input": "2022-09-01T17:40:48.693Z",
          "iopub.status.idle": "2022-09-01T17:40:49.095Z",
          "shell.execute_reply": "2022-09-01T17:40:49.134Z"
        }
      }
    },
    {
      "cell_type": "markdown",
      "source": [
        "## Cone search\n",
        "\n",
        "A variety of coordinate formats are supported. They are parsed by `get_radec` function, so see the docs for that function for details. Single argument is required, so input tuple or string."
      ],
      "metadata": {
        "nteract": {
          "transient": {
            "deleting": false
          }
        }
      }
    },
    {
      "cell_type": "code",
      "source": [
        "# example coordinates\n",
        "radecn = '13:31:08.288,30:30:32.9'\n",
        "radecs = (5.605941374999999, 0.24893373333333335)\n",
        "radius = 5/3600"
      ],
      "outputs": [],
      "execution_count": 2,
      "metadata": {
        "collapsed": true,
        "jupyter": {
          "source_hidden": false,
          "outputs_hidden": false
        },
        "nteract": {
          "transient": {
            "deleting": false
          }
        },
        "execution": {
          "iopub.status.busy": "2022-09-01T17:40:49.102Z",
          "iopub.execute_input": "2022-09-01T17:40:49.105Z",
          "iopub.status.idle": "2022-09-01T17:40:49.112Z",
          "shell.execute_reply": "2022-09-01T17:40:49.137Z"
        }
      }
    },
    {
      "cell_type": "code",
      "source": [
        "tab = astronquery.cone_lotss(radecn, radius)"
      ],
      "outputs": [],
      "execution_count": 3,
      "metadata": {
        "collapsed": true,
        "jupyter": {
          "source_hidden": false,
          "outputs_hidden": false
        },
        "nteract": {
          "transient": {
            "deleting": false
          }
        },
        "execution": {
          "iopub.status.busy": "2022-09-01T17:40:49.121Z",
          "iopub.execute_input": "2022-09-01T17:40:49.126Z",
          "iopub.status.idle": "2022-09-01T17:40:50.479Z",
          "shell.execute_reply": "2022-09-01T17:40:50.452Z"
        }
      }
    },
    {
      "cell_type": "code",
      "source": [
        "tab\n"
      ],
      "outputs": [
        {
          "output_type": "execute_result",
          "execution_count": 4,
          "data": {
            "text/plain": "<Table length=1>\n       ra              dec        ... mosaic_id     dateobs     \n      deg              deg        ...                           \n    float64          float64      ...   object      float64     \n---------------- ---------------- ... --------- ----------------\n202.784462986863 30.5091341934604 ...   P201+30 58217.8119675927",
            "text/html": "<div><i>Table length=1</i>\n<table id=\"table5552701152\" class=\"table-striped table-bordered table-condensed\">\n<thead><tr><th>ra</th><th>dec</th><th>peak_flux</th><th>e_peak_flux</th><th>total_flux</th><th>mosaic_id</th><th>dateobs</th></tr></thead>\n<thead><tr><th>deg</th><th>deg</th><th>mJy/beam</th><th>mJy/beam</th><th>mJy</th><th></th><th></th></tr></thead>\n<thead><tr><th>float64</th><th>float64</th><th>float64</th><th>float64</th><th>float64</th><th>object</th><th>float64</th></tr></thead>\n<tr><td>202.784462986863</td><td>30.5091341934604</td><td>20335.6447314874</td><td>1.1624920880422</td><td>23836.7341047094</td><td>P201+30</td><td>58217.8119675927</td></tr>\n</table></div>"
          },
          "metadata": {}
        }
      ],
      "execution_count": 4,
      "metadata": {
        "collapsed": true,
        "jupyter": {
          "source_hidden": false,
          "outputs_hidden": false
        },
        "nteract": {
          "transient": {
            "deleting": false
          }
        },
        "execution": {
          "iopub.status.busy": "2022-09-01T17:40:50.494Z",
          "iopub.execute_input": "2022-09-01T17:40:50.498Z",
          "iopub.status.idle": "2022-09-01T17:40:50.508Z",
          "shell.execute_reply": "2022-09-01T17:40:50.464Z"
        }
      }
    },
    {
      "cell_type": "code",
      "source": [
        "tab = casdaquery.cone_racs(radecs, radius)"
      ],
      "outputs": [
        {
          "output_type": "stream",
          "name": "stderr",
          "text": [
            "INFO:Query finished.\n"
          ]
        },
        {
          "output_type": "stream",
          "name": "stdout",
          "text": [
            "INFO: Query finished. [astroquery.utils.tap.core]\n"
          ]
        }
      ],
      "execution_count": 5,
      "metadata": {
        "collapsed": true,
        "jupyter": {
          "source_hidden": false,
          "outputs_hidden": false
        },
        "nteract": {
          "transient": {
            "deleting": false
          }
        },
        "execution": {
          "iopub.status.busy": "2022-09-01T17:40:50.515Z",
          "iopub.execute_input": "2022-09-01T17:40:50.518Z",
          "iopub.status.idle": "2022-09-01T17:40:58.469Z",
          "shell.execute_reply": "2022-09-01T17:40:58.554Z"
        }
      }
    },
    {
      "cell_type": "code",
      "source": [
        "tab"
      ],
      "outputs": [
        {
          "output_type": "execute_result",
          "execution_count": 6,
          "data": {
            "text/plain": "<Table length=2>\n   id    ra_deg_cont dec_deg_cont  ra_err ... flux_int_err maj_axis min_axis\n             deg         deg       arcsec ...     mJy       arcsec   arcsec \n int64     float64     float64    float32 ...   float32    float32  float32 \n-------- ----------- ------------ ------- ... ------------ -------- --------\n 6967287     5.60583     0.249185    0.01 ...        4.578    23.47    16.66\n17741891    5.605853     0.249075    0.03 ...       26.175    26.21    15.86",
            "text/html": "<div><i>Table length=2</i>\n<table id=\"table5552799120\" class=\"table-striped table-bordered table-condensed\">\n<thead><tr><th>id</th><th>ra_deg_cont</th><th>dec_deg_cont</th><th>ra_err</th><th>dec_err</th><th>flux_peak</th><th>flux_peak_err</th><th>flux_int</th><th>flux_int_err</th><th>maj_axis</th><th>min_axis</th></tr></thead>\n<thead><tr><th></th><th>deg</th><th>deg</th><th>arcsec</th><th>arcsec</th><th>mJy / beam</th><th>mJy / beam</th><th>mJy</th><th>mJy</th><th>arcsec</th><th>arcsec</th></tr></thead>\n<thead><tr><th>int64</th><th>float64</th><th>float64</th><th>float32</th><th>float32</th><th>float32</th><th>float32</th><th>float32</th><th>float32</th><th>float32</th><th>float32</th></tr></thead>\n<tr><td>6967287</td><td>5.60583</td><td>0.249185</td><td>0.01</td><td>0.0</td><td>3555.473</td><td>2.013</td><td>3655.03</td><td>4.578</td><td>23.47</td><td>16.66</td></tr>\n<tr><td>17741891</td><td>5.605853</td><td>0.249075</td><td>0.03</td><td>0.02</td><td>4312.084</td><td>11.252</td><td>4581.407</td><td>26.175</td><td>26.21</td><td>15.86</td></tr>\n</table></div>"
          },
          "metadata": {}
        }
      ],
      "execution_count": 6,
      "metadata": {
        "collapsed": true,
        "jupyter": {
          "source_hidden": false,
          "outputs_hidden": false
        },
        "nteract": {
          "transient": {
            "deleting": false
          }
        },
        "execution": {
          "iopub.status.busy": "2022-09-01T17:40:58.473Z",
          "iopub.execute_input": "2022-09-01T17:40:58.477Z",
          "iopub.status.idle": "2022-09-01T17:40:58.496Z",
          "shell.execute_reply": "2022-09-01T17:40:58.562Z"
        }
      }
    },
    {
      "cell_type": "code",
      "source": [
        "tab = heasarcquery.cone_first(radecn, radius)\n"
      ],
      "outputs": [],
      "execution_count": 7,
      "metadata": {
        "collapsed": true,
        "jupyter": {
          "source_hidden": false,
          "outputs_hidden": false
        },
        "nteract": {
          "transient": {
            "deleting": false
          }
        },
        "execution": {
          "iopub.status.busy": "2022-09-01T17:40:58.502Z",
          "iopub.execute_input": "2022-09-01T17:40:58.508Z",
          "iopub.status.idle": "2022-09-01T17:40:58.514Z",
          "shell.execute_reply": "2022-09-01T17:40:58.564Z"
        }
      }
    },
    {
      "cell_type": "code",
      "source": [
        "tab"
      ],
      "outputs": [
        {
          "output_type": "execute_result",
          "execution_count": 8,
          "data": {
            "text/plain": "<Table length=1>\n         NAME          ...                  SEARCH_OFFSET_                \n                       ...                                                \n       bytes22         ...                     bytes46                    \n---------------------- ... -----------------------------------------------\nFIRST J133108.2+303032 ... 0.001 (202.78453611448046,30.509138699084225)\\n",
            "text/html": "<div><i>Table length=1</i>\n<table id=\"table5570293712\" class=\"table-striped table-bordered table-condensed\">\n<thead><tr><th>NAME</th><th>RA</th><th>DEC</th><th>FLUX_20_CM</th><th>FLUX_20_CM_ERROR</th><th>INT_FLUX_20_CM</th><th>SIDELOBE_PROB</th><th>TWOMASS_FIRST_OFFSET</th><th>TWOMASS_KMAG</th><th>SEARCH_OFFSET_</th></tr></thead>\n<thead><tr><th></th><th>DEGREE</th><th>DEGREE</th><th>MJY</th><th>MJY</th><th>MJY</th><th></th><th>ARCSEC</th><th>MAG</th><th></th></tr></thead>\n<thead><tr><th>bytes22</th><th>float64</th><th>float64</th><th>float64</th><th>float64</th><th>float64</th><th>float64</th><th>float64</th><th>float64</th><th>bytes46</th></tr></thead>\n<tr><td>FIRST J133108.2+303032</td><td>202.784521</td><td>30.509153</td><td>14774.42</td><td>1.768</td><td>15025.79</td><td>0.032</td><td>0.16</td><td>14.63</td><td>0.001 (202.78453611448046,30.509138699084225)\\n</td></tr>\n</table></div>"
          },
          "metadata": {}
        }
      ],
      "execution_count": 8,
      "metadata": {
        "collapsed": true,
        "jupyter": {
          "source_hidden": false,
          "outputs_hidden": false
        },
        "nteract": {
          "transient": {
            "deleting": false
          }
        },
        "execution": {
          "iopub.status.busy": "2022-09-01T17:40:58.519Z",
          "iopub.execute_input": "2022-09-01T17:40:58.522Z",
          "iopub.status.idle": "2022-09-01T17:40:58.530Z",
          "shell.execute_reply": "2022-09-01T17:40:58.567Z"
        }
      }
    },
    {
      "cell_type": "code",
      "source": [
        "tab = noaoquery.cone_legacy(radecs, radius)"
      ],
      "outputs": [],
      "execution_count": 9,
      "metadata": {
        "collapsed": true,
        "jupyter": {
          "source_hidden": false,
          "outputs_hidden": false
        },
        "nteract": {
          "transient": {
            "deleting": false
          }
        },
        "execution": {
          "iopub.status.busy": "2022-09-01T17:40:58.535Z",
          "iopub.execute_input": "2022-09-01T17:40:58.538Z",
          "iopub.status.idle": "2022-09-01T17:40:58.583Z",
          "shell.execute_reply": "2022-09-01T17:40:58.707Z"
        }
      }
    },
    {
      "cell_type": "code",
      "source": [
        "tab"
      ],
      "outputs": [
        {
          "output_type": "execute_result",
          "execution_count": 10,
          "data": {
            "text/plain": "         ra       dec type             ls_id      mag_g      mag_r      mag_z  \\\n0  5.606739  0.248657  REX  9906621513076523  24.418838  23.588063  26.352915   \n1  5.605939  0.248936  SER  9906621513076486  20.099771  18.593424  17.700060   \n\n   mag_g_err  mag_r_err  mag_z_err   shape_r  \n0   6.357104   2.957668  37.747669  0.635631  \n1   0.119024   0.029723   0.013054  2.373992  ",
            "text/html": "<div>\n<style scoped>\n    .dataframe tbody tr th:only-of-type {\n        vertical-align: middle;\n    }\n\n    .dataframe tbody tr th {\n        vertical-align: top;\n    }\n\n    .dataframe thead th {\n        text-align: right;\n    }\n</style>\n<table border=\"1\" class=\"dataframe\">\n  <thead>\n    <tr style=\"text-align: right;\">\n      <th></th>\n      <th>ra</th>\n      <th>dec</th>\n      <th>type</th>\n      <th>ls_id</th>\n      <th>mag_g</th>\n      <th>mag_r</th>\n      <th>mag_z</th>\n      <th>mag_g_err</th>\n      <th>mag_r_err</th>\n      <th>mag_z_err</th>\n      <th>shape_r</th>\n    </tr>\n  </thead>\n  <tbody>\n    <tr>\n      <th>0</th>\n      <td>5.606739</td>\n      <td>0.248657</td>\n      <td>REX</td>\n      <td>9906621513076523</td>\n      <td>24.418838</td>\n      <td>23.588063</td>\n      <td>26.352915</td>\n      <td>6.357104</td>\n      <td>2.957668</td>\n      <td>37.747669</td>\n      <td>0.635631</td>\n    </tr>\n    <tr>\n      <th>1</th>\n      <td>5.605939</td>\n      <td>0.248936</td>\n      <td>SER</td>\n      <td>9906621513076486</td>\n      <td>20.099771</td>\n      <td>18.593424</td>\n      <td>17.700060</td>\n      <td>0.119024</td>\n      <td>0.029723</td>\n      <td>0.013054</td>\n      <td>2.373992</td>\n    </tr>\n  </tbody>\n</table>\n</div>"
          },
          "metadata": {}
        }
      ],
      "execution_count": 10,
      "metadata": {
        "collapsed": true,
        "jupyter": {
          "source_hidden": false,
          "outputs_hidden": false
        },
        "nteract": {
          "transient": {
            "deleting": false
          }
        },
        "execution": {
          "iopub.status.busy": "2022-09-01T17:40:58.593Z",
          "iopub.execute_input": "2022-09-01T17:40:58.599Z",
          "iopub.status.idle": "2022-09-01T17:40:58.609Z",
          "shell.execute_reply": "2022-09-01T17:40:58.712Z"
        }
      }
    },
    {
      "cell_type": "code",
      "source": [
        "tab = vizierquery.cone_gleam(radecs, radius)"
      ],
      "outputs": [],
      "execution_count": 11,
      "metadata": {
        "collapsed": true,
        "jupyter": {
          "source_hidden": false,
          "outputs_hidden": false
        },
        "nteract": {
          "transient": {
            "deleting": false
          }
        },
        "execution": {
          "iopub.status.busy": "2022-09-01T17:40:58.614Z",
          "iopub.execute_input": "2022-09-01T17:40:58.618Z",
          "iopub.status.idle": "2022-09-01T17:40:58.624Z",
          "shell.execute_reply": "2022-09-01T17:40:58.715Z"
        }
      }
    },
    {
      "cell_type": "code",
      "source": [
        "tab"
      ],
      "outputs": [
        {
          "output_type": "execute_result",
          "execution_count": 12,
          "data": {
            "text/plain": "[<Table length=1>\n     GLEAM       RAJ2000    DEJ2000   ...   Fint227     alpha   Fintfit200\n                   deg        deg     ...      Jy                   Jy    \n     str14       float64    float64   ...   float64    float64   float64  \n -------------- ---------- ---------- ... ----------- --------- ----------\n J002225+001452   5.605762   0.247920 ...    1.747387  1.202156   1.583486]"
          },
          "metadata": {}
        }
      ],
      "execution_count": 12,
      "metadata": {
        "collapsed": true,
        "jupyter": {
          "source_hidden": false,
          "outputs_hidden": false
        },
        "nteract": {
          "transient": {
            "deleting": false
          }
        },
        "execution": {
          "iopub.status.busy": "2022-09-01T17:40:58.629Z",
          "iopub.execute_input": "2022-09-01T17:40:58.633Z",
          "iopub.status.idle": "2022-09-01T17:40:58.648Z",
          "shell.execute_reply": "2022-09-01T17:40:58.717Z"
        }
      }
    },
    {
      "cell_type": "code",
      "source": [
        "df = chimequery.cone_catalog1(radecn, radius=10)"
      ],
      "outputs": [],
      "execution_count": 13,
      "metadata": {
        "collapsed": true,
        "jupyter": {
          "source_hidden": false,
          "outputs_hidden": false
        },
        "nteract": {
          "transient": {
            "deleting": false
          }
        },
        "execution": {
          "iopub.status.busy": "2022-09-01T17:40:58.665Z",
          "iopub.execute_input": "2022-09-01T17:40:58.669Z",
          "iopub.status.idle": "2022-09-01T17:40:58.675Z",
          "shell.execute_reply": "2022-09-01T17:40:58.719Z"
        }
      }
    },
    {
      "cell_type": "code",
      "source": [
        "df"
      ],
      "outputs": [
        {
          "output_type": "execute_result",
          "execution_count": 14,
          "data": {
            "text/plain": "         tns_name repeater_name      ra    dec  bonsai_dm  separation\n1    FRB20180727A         -9999  197.72  26.42      642.1    6.043607\n239  FRB20190116A  FRB20190116B  192.33  27.15      446.4    9.750224\n240  FRB20190116B  FRB20190116B  192.33  27.15      441.6    9.750224\n244  FRB20190117D         -9999  208.87  31.68     1175.9    5.340179\n362  FRB20190304B         -9999  204.86  24.19      470.7    6.582067\n391  FRB20190323C         -9999  199.50  40.07      380.1    9.927499\n404  FRB20190330A         -9999  204.09  38.36      509.5    7.924073",
            "text/html": "<div>\n<style scoped>\n    .dataframe tbody tr th:only-of-type {\n        vertical-align: middle;\n    }\n\n    .dataframe tbody tr th {\n        vertical-align: top;\n    }\n\n    .dataframe thead th {\n        text-align: right;\n    }\n</style>\n<table border=\"1\" class=\"dataframe\">\n  <thead>\n    <tr style=\"text-align: right;\">\n      <th></th>\n      <th>tns_name</th>\n      <th>repeater_name</th>\n      <th>ra</th>\n      <th>dec</th>\n      <th>bonsai_dm</th>\n      <th>separation</th>\n    </tr>\n  </thead>\n  <tbody>\n    <tr>\n      <th>1</th>\n      <td>FRB20180727A</td>\n      <td>-9999</td>\n      <td>197.72</td>\n      <td>26.42</td>\n      <td>642.1</td>\n      <td>6.043607</td>\n    </tr>\n    <tr>\n      <th>239</th>\n      <td>FRB20190116A</td>\n      <td>FRB20190116B</td>\n      <td>192.33</td>\n      <td>27.15</td>\n      <td>446.4</td>\n      <td>9.750224</td>\n    </tr>\n    <tr>\n      <th>240</th>\n      <td>FRB20190116B</td>\n      <td>FRB20190116B</td>\n      <td>192.33</td>\n      <td>27.15</td>\n      <td>441.6</td>\n      <td>9.750224</td>\n    </tr>\n    <tr>\n      <th>244</th>\n      <td>FRB20190117D</td>\n      <td>-9999</td>\n      <td>208.87</td>\n      <td>31.68</td>\n      <td>1175.9</td>\n      <td>5.340179</td>\n    </tr>\n    <tr>\n      <th>362</th>\n      <td>FRB20190304B</td>\n      <td>-9999</td>\n      <td>204.86</td>\n      <td>24.19</td>\n      <td>470.7</td>\n      <td>6.582067</td>\n    </tr>\n    <tr>\n      <th>391</th>\n      <td>FRB20190323C</td>\n      <td>-9999</td>\n      <td>199.50</td>\n      <td>40.07</td>\n      <td>380.1</td>\n      <td>9.927499</td>\n    </tr>\n    <tr>\n      <th>404</th>\n      <td>FRB20190330A</td>\n      <td>-9999</td>\n      <td>204.09</td>\n      <td>38.36</td>\n      <td>509.5</td>\n      <td>7.924073</td>\n    </tr>\n  </tbody>\n</table>\n</div>"
          },
          "metadata": {}
        }
      ],
      "execution_count": 14,
      "metadata": {
        "collapsed": true,
        "jupyter": {
          "source_hidden": false,
          "outputs_hidden": false
        },
        "nteract": {
          "transient": {
            "deleting": false
          }
        },
        "execution": {
          "iopub.status.busy": "2022-09-01T17:40:58.679Z",
          "iopub.execute_input": "2022-09-01T17:40:58.682Z",
          "iopub.status.idle": "2022-09-01T17:40:58.692Z",
          "shell.execute_reply": "2022-09-01T17:40:58.721Z"
        }
      }
    },
    {
      "cell_type": "code",
      "source": [],
      "outputs": [],
      "execution_count": null,
      "metadata": {
        "collapsed": true,
        "jupyter": {
          "source_hidden": false,
          "outputs_hidden": false
        },
        "nteract": {
          "transient": {
            "deleting": false
          }
        }
      }
    }
  ],
  "metadata": {
    "kernel_info": {
      "name": "python3"
    },
    "language_info": {
      "name": "python",
      "version": "3.8.12",
      "mimetype": "text/x-python",
      "codemirror_mode": {
        "name": "ipython",
        "version": 3
      },
      "pygments_lexer": "ipython3",
      "nbconvert_exporter": "python",
      "file_extension": ".py"
    },
    "kernelspec": {
      "argv": [
        "/Users/claw/anaconda3arm/envs/py38/bin/python",
        "-m",
        "ipykernel_launcher",
        "-f",
        "{connection_file}"
      ],
      "display_name": "py38",
      "language": "python",
      "metadata": {
        "debugger": true
      },
      "name": "python3"
    },
    "nteract": {
      "version": "0.28.0"
    }
  },
  "nbformat": 4,
  "nbformat_minor": 0
}